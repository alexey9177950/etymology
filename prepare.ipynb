{
 "cells": [
  {
   "cell_type": "code",
   "execution_count": 1,
   "id": "04679220",
   "metadata": {},
   "outputs": [],
   "source": [
    "def incr_value(dct, key, val):\n",
    "    if key in dct:\n",
    "        dct[key] += val\n",
    "    else:\n",
    "        dct[key] = val\n",
    "\n",
    "\n",
    "approved_relations = set([\n",
    "    'borrowed_from',\n",
    "    'derived_from',\n",
    "    'inherited_from',\n",
    "    'abbreviation_of',\n",
    "    'clipping_of',\n",
    "    'compound_of',\n",
    "    'calque_of',\n",
    "    'blend_of',\n",
    "    'unadapted_borrowing_from',\n",
    "    'learned_borrowing_from',\n",
    "    'orthographic_borrowing_from',\n",
    "    'named_after',\n",
    "    'semantic_loan_of',\n",
    "    'phono-semantic_matching_of',\n",
    "    'initialism_of',\n",
    "])"
   ]
  },
  {
   "cell_type": "code",
   "execution_count": 2,
   "id": "5d2b9645",
   "metadata": {},
   "outputs": [],
   "source": [
    "data = []\n",
    "header = None\n",
    "n_colums = None\n",
    "\n",
    "cnt_german = dict()\n",
    "cnt_latin = dict()\n",
    "\n",
    "# taken from https://github.com/droher/etymology-db\n",
    "for line in open(\"etymology.csv\"):\n",
    "    \n",
    "    if header is None:\n",
    "        header = line.split(',')\n",
    "        n_columns = len(header)\n",
    "        continue\n",
    "\n",
    "    tokens = line.split(',')\n",
    "    if len(tokens) < n_columns:\n",
    "        continue\n",
    "\n",
    "    lang1 = tokens[1]    \n",
    "    term1 = tokens[2]\n",
    "    reltype = tokens[3]\n",
    "    lang2 = tokens[5]\n",
    "    term2 = tokens[6]\n",
    "    \n",
    "    if lang1 != 'English':\n",
    "        continue    \n",
    "    if reltype not in approved_relations:\n",
    "        continue\n",
    "    if term1 == '' or lang2 == '' or term2 == '':\n",
    "        continue\n",
    "\n",
    "    if (\"French\" in lang2) or (\"Latin\" in lang2):\n",
    "        incr_value(cnt_latin, term1, 1)\n",
    "    if (\"German\" in lang2):\n",
    "        incr_value(cnt_german, term1, 1)"
   ]
  },
  {
   "cell_type": "code",
   "execution_count": 5,
   "id": "8d65fd3c",
   "metadata": {},
   "outputs": [],
   "source": [
    "import pickle\n",
    "\n",
    "with open(\"counts.pickle\", \"wb\") as counts_file:\n",
    "    pickle.dump((cnt_latin, cnt_german), counts_file)"
   ]
  }
 ],
 "metadata": {
  "kernelspec": {
   "display_name": "jup_venv1",
   "language": "python",
   "name": "jup_venv1"
  },
  "language_info": {
   "codemirror_mode": {
    "name": "ipython",
    "version": 3
   },
   "file_extension": ".py",
   "mimetype": "text/x-python",
   "name": "python",
   "nbconvert_exporter": "python",
   "pygments_lexer": "ipython3",
   "version": "3.10.6"
  }
 },
 "nbformat": 4,
 "nbformat_minor": 5
}
