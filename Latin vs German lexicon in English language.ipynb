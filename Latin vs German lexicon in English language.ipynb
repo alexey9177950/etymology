{
 "cells": [
  {
   "cell_type": "code",
   "execution_count": 1,
   "id": "bac01161",
   "metadata": {},
   "outputs": [],
   "source": [
    "import pickle\n",
    "\n",
    "\n",
    "def incr_value(dct, key, val):\n",
    "    if key in dct:\n",
    "        dct[key] += val\n",
    "    else:\n",
    "        dct[key] = val\n",
    "\n",
    "\n",
    "approved_relations = set([\n",
    "    'borrowed_from',\n",
    "    'derived_from',\n",
    "    'inherited_from',\n",
    "    'abbreviation_of',\n",
    "    'clipping_of',\n",
    "    'compound_of',\n",
    "    'calque_of',\n",
    "    'blend_of',\n",
    "    'unadapted_borrowing_from',\n",
    "    'learned_borrowing_from',\n",
    "    'orthographic_borrowing_from',\n",
    "    'named_after',\n",
    "    'semantic_loan_of',\n",
    "    'phono-semantic_matching_of',\n",
    "    'initialism_of',\n",
    "])\n",
    "\n",
    "data = []\n",
    "header = None\n",
    "n_colums = None\n",
    "\n",
    "cnt_german = dict()\n",
    "cnt_latin = dict()\n",
    "\n",
    "# taken from https://github.com/droher/etymology-db\n",
    "for line in open(\"etymology.csv\"):\n",
    "    \n",
    "    if header is None:\n",
    "        header = line.split(',')\n",
    "        n_columns = len(header)\n",
    "        continue\n",
    "\n",
    "    tokens = line.split(',')\n",
    "    if len(tokens) < n_columns:\n",
    "        continue\n",
    "\n",
    "    lang1 = tokens[1]    \n",
    "    term1 = tokens[2]\n",
    "    reltype = tokens[3]\n",
    "    lang2 = tokens[5]\n",
    "    term2 = tokens[6]\n",
    "    \n",
    "    if lang1 != 'English':\n",
    "        continue    \n",
    "    if reltype not in approved_relations:\n",
    "        continue\n",
    "    if term1 == '' or lang2 == '' or term2 == '':\n",
    "        continue\n",
    "\n",
    "    if (\"French\" in lang2) or (\"Latin\" in lang2):\n",
    "        incr_value(cnt_latin, term1, 1)\n",
    "    if (\"German\" in lang2):\n",
    "        incr_value(cnt_german, term1, 1)\n",
    "\n",
    "\n",
    "with open(\"counts.pickle\", \"wb\") as counts_file:\n",
    "    pickle.dump((cnt_latin, cnt_german), counts_file)"
   ]
  },
  {
   "cell_type": "code",
   "execution_count": 2,
   "id": "640457d0",
   "metadata": {},
   "outputs": [
    {
     "name": "stderr",
     "output_type": "stream",
     "text": [
      "[nltk_data] Downloading package punkt to /home/alexey/nltk_data...\n",
      "[nltk_data]   Package punkt is already up-to-date!\n",
      "[nltk_data] Downloading package stopwords to /home/alexey/nltk_data...\n",
      "[nltk_data]   Package stopwords is already up-to-date!\n",
      "[nltk_data] Downloading package wordnet to /home/alexey/nltk_data...\n",
      "[nltk_data]   Package wordnet is already up-to-date!\n",
      "[nltk_data] Downloading package omw-1.4 to /home/alexey/nltk_data...\n",
      "[nltk_data]   Package omw-1.4 is already up-to-date!\n"
     ]
    }
   ],
   "source": [
    "import pickle\n",
    "from nltk import sent_tokenize, word_tokenize\n",
    "from nltk.corpus import stopwords\n",
    "from nltk import WordNetLemmatizer\n",
    "import nltk\n",
    "nltk.download('punkt')\n",
    "nltk.download('stopwords')\n",
    "nltk.download('wordnet')\n",
    "nltk.download('omw-1.4')\n",
    "\n",
    "\n",
    "dict_latin, dict_german = pickle.load(open(\"counts.pickle\", \"rb\"))\n",
    "\n",
    "\n",
    "def calc_latin_german_word(word):\n",
    "    cnt_latin, cnt_german = dict_latin.get(word, 0), dict_german.get(word, 0)\n",
    "    total = cnt_latin + cnt_german\n",
    "    if total == 0:\n",
    "        return 0., 0.\n",
    "    else:\n",
    "        return (cnt_latin / total), (cnt_german / total)\n",
    "\n",
    "\n",
    "# taken from http://agailloty.rbind.io/project/nlp_clean-text/\n",
    "def clean_text(text):\n",
    "    \"\"\"\n",
    "    This function takes as input a text on which several\n",
    "    NLTK algorithms will be applied in order to preprocess it\n",
    "    \"\"\"\n",
    "    if type(text) == str:\n",
    "        tokens = word_tokenize(text)\n",
    "    elif type(text) == list:\n",
    "        tokens = text\n",
    "    else:\n",
    "        raise ValueError(\"Provide string or list of words\")\n",
    "    # Remove the punctuations\n",
    "    tokens = [word for word in tokens if word.isalpha()]\n",
    "    # Lower the tokens\n",
    "    tokens = [word.lower() for word in tokens]\n",
    "    # Remove stopword\n",
    "    tokens = [word for word in tokens if not word in stopwords.words(\"english\")]\n",
    "    # Lemmatize\n",
    "    lemma = WordNetLemmatizer()\n",
    "    tokens = [lemma.lemmatize(word, pos = \"v\") for word in tokens]\n",
    "    tokens = [lemma.lemmatize(word, pos = \"n\") for word in tokens]\n",
    "    return tokens\n",
    "\n",
    "\n",
    "def calc_latin_german(text, normalize = True):\n",
    "    text = clean_text(text)\n",
    "    sum_german, sum_latin = 0., 0.\n",
    "    for word in text:\n",
    "        upd_latin, upd_german = calc_latin_german_word(word)\n",
    "        sum_latin += upd_latin\n",
    "        sum_german += upd_german\n",
    "    if normalize:\n",
    "        total = sum_german + sum_latin\n",
    "        if total < 1e-5:\n",
    "            raise ValueError(\"Text is not in English or too small\")\n",
    "        return sum_latin / total, sum_german / total\n",
    "    else:\n",
    "        return sum_latin, sum_german\n"
   ]
  },
  {
   "cell_type": "code",
   "execution_count": 3,
   "id": "bab709e1",
   "metadata": {},
   "outputs": [
    {
     "name": "stdout",
     "output_type": "stream",
     "text": [
      "adventure 36.62762336105941 % latin, 63.37237663894059 % german\n",
      "belles_lettres 60.40481380887696 % latin, 39.59518619112304 % german\n",
      "editorial 60.987120371855916 % latin, 39.01287962814408 % german\n",
      "fiction 39.44392520199663 % latin, 60.55607479800338 % german\n",
      "government 75.26326683743441 % latin, 24.736733162565585 % german\n",
      "hobbies 58.30643219187556 % latin, 41.693567808124456 % german\n",
      "humor 49.14102507504853 % latin, 50.858974924951475 % german\n",
      "learned 71.69940650228442 % latin, 28.30059349771558 % german\n",
      "lore 57.44836158494682 % latin, 42.55163841505317 % german\n",
      "mystery 39.48031402171861 % latin, 60.5196859782814 % german\n",
      "news 60.151379449067264 % latin, 39.848620550932736 % german\n",
      "religion 59.80568820434642 % latin, 40.19431179565358 % german\n",
      "reviews 58.14681932451644 % latin, 41.853180675483564 % german\n",
      "romance 37.34038353466812 % latin, 62.659616465331894 % german\n",
      "science_fiction 48.44093458755114 % latin, 51.55906541244888 % german\n"
     ]
    }
   ],
   "source": [
    "from nltk.corpus import brown\n",
    "\n",
    "results = dict()\n",
    "\n",
    "for category in brown.categories():\n",
    "    latin, german = calc_latin_german(list(brown.words(categories=category)))\n",
    "    results[\"br_\" + category] = latin\n",
    "    \n",
    "    print(category, 100 * latin, \"% latin,\", 100 * german, \"% german\")"
   ]
  },
  {
   "cell_type": "code",
   "execution_count": 4,
   "id": "b887166c",
   "metadata": {},
   "outputs": [
    {
     "name": "stdout",
     "output_type": "stream",
     "text": [
      "0.4558846895183944 0.5441153104816057\n"
     ]
    }
   ],
   "source": [
    "from nltk.corpus import webtext\n",
    "\n",
    "latin, german = calc_latin_german(list(webtext.words()))\n",
    "results['webtext'] = latin\n",
    "print(latin, german)"
   ]
  },
  {
   "cell_type": "code",
   "execution_count": 5,
   "id": "ace075a9",
   "metadata": {},
   "outputs": [],
   "source": [
    "from nltk.corpus import inaugural\n",
    "latin, german = calc_latin_german(inaugural.raw())\n",
    "results['inaugural'] = latin"
   ]
  },
  {
   "cell_type": "code",
   "execution_count": 6,
   "id": "c3dd0a17",
   "metadata": {},
   "outputs": [
    {
     "data": {
      "text/plain": [
       "<BarContainer object of 17 artists>"
      ]
     },
     "execution_count": 6,
     "metadata": {},
     "output_type": "execute_result"
    },
    {
     "data": {
      "image/png": "[encoded data removed]",
      "text/plain": [
       "<Figure size 1440x648 with 1 Axes>"
      ]
     },
     "metadata": {
      "needs_background": "light"
     },
     "output_type": "display_data"
    }
   ],
   "source": [
    "import matplotlib.pyplot as plt\n",
    "\n",
    "pairs = sorted([(value, key) for key, value in results.items()])\n",
    "y = [i[0] for i in pairs]\n",
    "x = [i[1] for i in pairs]\n",
    "\n",
    "plt.figure(figsize=(20, 9))\n",
    "plt.grid(True)\n",
    "plt.bar(x, y)"
   ]
  }
 ],
 "metadata": {
  "kernelspec": {
   "display_name": "Python 3 (ipykernel)",
   "language": "python",
   "name": "python3"
  },
  "language_info": {
   "codemirror_mode": {
    "name": "ipython",
    "version": 3
   },
   "file_extension": ".py",
   "mimetype": "text/x-python",
   "name": "python",
   "nbconvert_exporter": "python",
   "pygments_lexer": "ipython3",
   "version": "3.10.7"
  }
 },
 "nbformat": 4,
 "nbformat_minor": 5
}
